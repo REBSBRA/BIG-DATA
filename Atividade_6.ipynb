{
  "nbformat": 4,
  "nbformat_minor": 0,
  "metadata": {
    "colab": {
      "name": "Atividade 6",
      "provenance": [],
      "authorship_tag": "ABX9TyMX9nc8AlxF8xknEy/pGof+",
      "include_colab_link": true
    },
    "kernelspec": {
      "name": "python3",
      "display_name": "Python 3"
    },
    "language_info": {
      "name": "python"
    }
  },
  "cells": [
    {
      "cell_type": "markdown",
      "metadata": {
        "id": "view-in-github",
        "colab_type": "text"
      },
      "source": [
        "<a href=\"https://colab.research.google.com/github/REBSBRA/REBSBRA/blob/main/Atividade_6.ipynb\" target=\"_parent\"><img src=\"https://colab.research.google.com/assets/colab-badge.svg\" alt=\"Open In Colab\"/></a>"
      ]
    },
    {
      "cell_type": "code",
      "execution_count": null,
      "metadata": {
        "id": "geIT9a3UspTu"
      },
      "outputs": [],
      "source": [
        "!pip install beautifulsoup4\n",
        "!pip install urllib3\n",
        "from bs4 import BeautifulSoup\n",
        "from urllib3 import request\n",
        "import urllib3"
      ]
    },
    {
      "cell_type": "code",
      "source": [
        "urllib3.disable_warnings(urllib3.exceptions.InsecureRequestWarning)\n",
        "http = urllib3.PoolManager()\n",
        "url = http.request('GET','https://pt.wikipedia.org/wiki/Big_data')\n"
      ],
      "metadata": {
        "id": "C4sbuWKCxuWv"
      },
      "execution_count": 118,
      "outputs": []
    },
    {
      "cell_type": "code",
      "source": [
        "url.status"
      ],
      "metadata": {
        "id": "APhTBOdP1ZwM"
      },
      "execution_count": null,
      "outputs": []
    },
    {
      "cell_type": "code",
      "source": [
        "url.data"
      ],
      "metadata": {
        "id": "5FpK2g_d1hj5"
      },
      "execution_count": null,
      "outputs": []
    },
    {
      "cell_type": "code",
      "source": [
        "url.data[0:100]"
      ],
      "metadata": {
        "id": "IAEhE0jV1sS5"
      },
      "execution_count": null,
      "outputs": []
    },
    {
      "cell_type": "code",
      "source": [
        "text = BeautifulSoup(url.data, 'lxml')\n",
        "for tags in text(['script', 'style']):\n",
        "    tags.decompose()\n",
        "conteudo = ' '.join(text.stripped_strings)\n",
        "conteudo"
      ],
      "metadata": {
        "id": "4696Mrsz1zrj"
      },
      "execution_count": null,
      "outputs": []
    },
    {
      "cell_type": "code",
      "source": [
        "text.head"
      ],
      "metadata": {
        "id": "VrTVgmAz-HIk"
      },
      "execution_count": null,
      "outputs": []
    },
    {
      "cell_type": "code",
      "source": [
        "text.body.b"
      ],
      "metadata": {
        "id": "RAqB-tog-l65"
      },
      "execution_count": null,
      "outputs": []
    },
    {
      "cell_type": "code",
      "source": [
        "text.a"
      ],
      "metadata": {
        "id": "ZrgzYjCJ-yna"
      },
      "execution_count": null,
      "outputs": []
    },
    {
      "cell_type": "code",
      "source": [
        "text.find_all('a')"
      ],
      "metadata": {
        "id": "Y_l_grly_AJs"
      },
      "execution_count": null,
      "outputs": []
    },
    {
      "cell_type": "code",
      "source": [
        "text.title"
      ],
      "metadata": {
        "id": "4iuC2l-Y4sa9"
      },
      "execution_count": null,
      "outputs": []
    },
    {
      "cell_type": "code",
      "source": [
        "text.title.string"
      ],
      "metadata": {
        "id": "xALVf1wM5AVm"
      },
      "execution_count": null,
      "outputs": []
    },
    {
      "cell_type": "code",
      "source": [
        "print(text.get_text())"
      ],
      "metadata": {
        "id": "2DY6xQaR6dsc"
      },
      "execution_count": null,
      "outputs": []
    },
    {
      "cell_type": "code",
      "source": [
        "links = text.find_all('a')\n",
        "len(links)\n",
        "for link in links:\n",
        "  print(link.get('href'))\n",
        "  print(link.contents)"
      ],
      "metadata": {
        "id": "qaBRRRCg5LQy"
      },
      "execution_count": null,
      "outputs": []
    },
    {
      "cell_type": "code",
      "source": [
        "!pip install nltk\n",
        "import nltk\n",
        "nltk.download('punkt')"
      ],
      "metadata": {
        "id": "55a9Mbh2AVFF"
      },
      "execution_count": null,
      "outputs": []
    },
    {
      "cell_type": "code",
      "source": [
        "import re\n",
        "limpar_numero = re.sub('[-|0-9]',' ', conteudo)\n",
        "limpar_numero\n"
      ],
      "metadata": {
        "id": "3D5QkcVRAo7q"
      },
      "execution_count": null,
      "outputs": []
    },
    {
      "cell_type": "code",
      "source": [
        "limpar_conteudo = re.sub(u'[^a-zA-Z0-9áéíóúÁÉÍÓÚâêîôÂÊÎÔãõÃÕçÇ: ]',' ', limpar_numero)\n",
        "limpar_conteudo"
      ],
      "metadata": {
        "id": "0BlAkPOCCrnH"
      },
      "execution_count": null,
      "outputs": []
    },
    {
      "cell_type": "code",
      "source": [
        "from nltk.tokenize import word_tokenize\n",
        "from nltk.tokenize import sent_tokenize\n",
        "sentenca = sent_tokenize(limpar_conteudo)\n",
        "palavras_em_tokens = word_tokenize(limpar_conteudo.lower())\n",
        "palavras_em_tokens"
      ],
      "metadata": {
        "id": "hG_g6fpJD8yo"
      },
      "execution_count": null,
      "outputs": []
    },
    {
      "cell_type": "code",
      "source": [
        "nltk.download('stopwords')\n",
        "from nltk.corpus import stopwords\n",
        "from string import punctuation\n",
        "stopwords = set(stopwords.words('portuguese', 'english') + list(punctuation))\n",
        "limpar_stopwords = [palavras_em_tokens for palavras_em_tokens in palavras_em_tokens if palavras_em_tokens not in stopwords]\n",
        "limpar_stopwords"
      ],
      "metadata": {
        "id": "1SEYCGebFnq6"
      },
      "execution_count": null,
      "outputs": []
    },
    {
      "cell_type": "code",
      "source": [
        "from nltk.probability import FreqDist\n",
        "palavras_frequentes = FreqDist(limpar_stopwords)\n",
        "palavras_frequentes"
      ],
      "metadata": {
        "id": "M5aI5IIUHZon"
      },
      "execution_count": null,
      "outputs": []
    },
    {
      "cell_type": "code",
      "source": [
        "from collections import defaultdict\n",
        "sent_importantes = defaultdict(int)\n",
        "for i, sentenca in enumerate(sentenca):\n",
        "  if palavras_em_tokens in limpar_stopwords:\n",
        "    sent_importantes[i] += conteudo[palavras_em_tokens]"
      ],
      "metadata": {
        "id": "0IkkWus4rFp2"
      },
      "execution_count": 137,
      "outputs": []
    },
    {
      "cell_type": "code",
      "source": [
        "from heapq import nlargest\n",
        "new_sent_import = nlargest(4, sent_importantes, sent_importantes.get)"
      ],
      "metadata": {
        "id": "1L0bYuTztVK7"
      },
      "execution_count": 138,
      "outputs": []
    },
    {
      "cell_type": "code",
      "source": [
        "for i in sorted(new_sent_import):\n",
        "  print(sentenca[i])"
      ],
      "metadata": {
        "id": "a90vGUzjuDB2"
      },
      "execution_count": 139,
      "outputs": []
    },
    {
      "cell_type": "code",
      "source": [
        "freq = nltk.FreqDist(palavras_frequentes)"
      ],
      "metadata": {
        "id": "Ovf4k2ZFhNQC"
      },
      "execution_count": 140,
      "outputs": []
    },
    {
      "cell_type": "code",
      "source": [
        "freq.plot(3, cumulative=False)"
      ],
      "metadata": {
        "id": "Do7ukIvljHrq"
      },
      "execution_count": null,
      "outputs": []
    }
  ]
}